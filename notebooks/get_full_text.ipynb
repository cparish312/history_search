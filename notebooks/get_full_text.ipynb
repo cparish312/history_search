{
 "cells": [
  {
   "cell_type": "code",
   "execution_count": 1,
   "metadata": {},
   "outputs": [],
   "source": [
    "import os\n",
    "import requests\n",
    "import pandas as pd\n",
    "from datetime import datetime, timedelta\n",
    "\n",
    "from bs4 import BeautifulSoup\n",
    "from bs4.element import Comment\n",
    "\n",
    "import sys\n",
    "sys.path.insert(0, \"../\")\n",
    "import utils\n",
    "from chromadb_tools import get_chroma_collection, run_chroma_ingest"
   ]
  },
  {
   "cell_type": "code",
   "execution_count": 20,
   "metadata": {},
   "outputs": [
    {
     "name": "stdout",
     "output_type": "stream",
     "text": [
      "10474 urls from Firefox\n",
      "73 urls from Chrome\n",
      "16 urls from Arc\n"
     ]
    }
   ],
   "source": [
    "history = utils.get_browser_history()"
   ]
  },
  {
   "cell_type": "code",
   "execution_count": 21,
   "metadata": {},
   "outputs": [],
   "source": [
    "history = history.dropna(subset=['url_hash'])"
   ]
  },
  {
   "cell_type": "code",
   "execution_count": 22,
   "metadata": {},
   "outputs": [
    {
     "data": {
      "text/plain": [
       "7433"
      ]
     },
     "execution_count": 22,
     "metadata": {},
     "output_type": "execute_result"
    }
   ],
   "source": [
    "len(set(history['url_hash']))"
   ]
  },
  {
   "cell_type": "code",
   "execution_count": 23,
   "metadata": {},
   "outputs": [],
   "source": [
    "now_utc = datetime.utcnow()\n",
    "\n",
    "yesterday_start = (now_utc - timedelta(days=300)).replace(hour=0, minute=0, second=0, microsecond=0)\n",
    "yesterday_end = yesterday_start + timedelta(days=1, microseconds=-1)"
   ]
  },
  {
   "cell_type": "code",
   "execution_count": 25,
   "metadata": {},
   "outputs": [
    {
     "data": {
      "text/plain": [
       "7433"
      ]
     },
     "execution_count": 25,
     "metadata": {},
     "output_type": "execute_result"
    }
   ],
   "source": [
    "history = history.loc[history['datetime_utc'].dt.date >= yesterday_start.date()]\n",
    "len(history)"
   ]
  },
  {
   "cell_type": "code",
   "execution_count": 26,
   "metadata": {},
   "outputs": [
    {
     "name": "stdout",
     "output_type": "stream",
     "text": [
      "0\n",
      "10\n",
      "20\n",
      "30\n",
      "40\n",
      "50\n",
      "60\n",
      "70\n",
      "80\n",
      "90\n",
      "100\n",
      "110\n",
      "120\n",
      "130\n",
      "140\n",
      "150\n",
      "160\n",
      "170\n",
      "180\n",
      "190\n",
      "200\n",
      "210\n",
      "220\n",
      "230\n",
      "240\n",
      "250\n",
      "260\n",
      "270\n",
      "280\n",
      "290\n",
      "300\n",
      "310\n",
      "320\n",
      "330\n",
      "340\n",
      "350\n",
      "360\n",
      "370\n",
      "380\n",
      "390\n",
      "400\n",
      "410\n",
      "420\n",
      "430\n",
      "440\n",
      "450\n",
      "460\n",
      "470\n",
      "480\n",
      "490\n",
      "500\n",
      "Failed request for https://www.bioinsidernetwork.com/\n",
      "510\n",
      "520\n",
      "530\n",
      "540\n",
      "550\n",
      "560\n",
      "570\n",
      "580\n",
      "590\n",
      "600\n",
      "610\n",
      "620\n",
      "Failed request for http://vulnerabilityassessments.life/avs/en/dt/mcafee-4.php?c=5vz65053z7qz1&k=2df193bf0d52ae353cf1dc59c1335a60&country_code=US&carrier=Verizon&country_name=United%20States&region=New%20York&city=Buffalo&isp=MCI%20Communications%20Services,%20Inc.%20d/b/a%20Verizon%20Business&lang=en&os=Mac%20OS%20X&osv=10.15&browser=Firefox&browserv=121&brand=Desktop&model=Desktop&marketing_name=Desktop&tablet=4&rheight=768&rwidth=768&e=5\n",
      "Failed request for http://vulnerabilityassessments.life/avs/en/dt/avg-1.php?c=5vz65053z7qz1&k=2df193bf0d52ae353cf1dc59c1335a60&country_code=US&carrier=Verizon&country_name=United%20States&region=New%20York&city=Buffalo&isp=MCI%20Communications%20Services,%20Inc.%20d/b/a%20Verizon%20Business&lang=en&os=Mac%20OS%20X&osv=10.15&browser=Firefox&browserv=121&brand=Desktop&model=Desktop&marketing_name=Desktop&tablet=4&rheight=768&rwidth=768&e=5\n",
      "630\n",
      "640\n",
      "650\n",
      "660\n",
      "670\n",
      "680\n",
      "690\n",
      "700\n",
      "710\n",
      "720\n",
      "730\n",
      "740\n",
      "750\n",
      "760\n",
      "770\n",
      "780\n",
      "790\n",
      "800\n",
      "810\n",
      "820\n",
      "830\n",
      "840\n",
      "850\n",
      "860\n",
      "870\n",
      "880\n",
      "890\n",
      "900\n",
      "910\n",
      "920\n",
      "930\n",
      "940\n",
      "950\n"
     ]
    }
   ],
   "source": [
    "history_pages_dir = \"../data/history_pages/\"\n",
    "utils.make_dir(history_pages_dir)\n",
    "for i, (_, row) in enumerate(history.iterrows()):\n",
    "    if i % 10 == 0:\n",
    "        print(i)\n",
    "    dest_f = os.path.join(history_pages_dir, f\"{int(row['url_hash'])}.html\")\n",
    "    if os.path.exists(dest_f):\n",
    "        continue\n",
    "    if row['url'][:8] == \"file:///\":\n",
    "        continue\n",
    "    try:\n",
    "        response = requests.get(row['url'])\n",
    "    except:\n",
    "        print(f\"Failed request for {row['url']}\")\n",
    "        continue\n",
    "    with open(dest_f, 'w') as outfile:\n",
    "        outfile.write(response.text)"
   ]
  },
  {
   "cell_type": "markdown",
   "metadata": {},
   "source": [
    "# Parse text from HTML"
   ]
  },
  {
   "cell_type": "code",
   "execution_count": 8,
   "metadata": {},
   "outputs": [],
   "source": [
    "def tag_visible(element):\n",
    "    if element.parent.name in ['style', 'script', 'head', 'title', 'meta', '[document]']:\n",
    "        return False\n",
    "    if isinstance(element, Comment):\n",
    "        return False\n",
    "    return True\n",
    "\n",
    "\n",
    "def text_from_html(body):\n",
    "    soup = BeautifulSoup(body, 'html.parser')\n",
    "    texts = soup.findAll(text=True)\n",
    "    visible_texts = filter(tag_visible, texts)  \n",
    "    return u\" \".join(t.strip() for t in visible_texts)\n",
    "\n",
    "def text_from_url_hash(url_hash):\n",
    "    html_path = os.path.join(history_pages_dir, f\"{url_hash}.html\")\n",
    "    if not os.path.exists(html_path):\n",
    "        return \"No html\"\n",
    "    with open(html_path, 'r') as infile:\n",
    "        html = infile.read()\n",
    "    return text_from_html(html)"
   ]
  },
  {
   "cell_type": "markdown",
   "metadata": {},
   "source": [
    "# Add to chromadb"
   ]
  },
  {
   "cell_type": "code",
   "execution_count": 9,
   "metadata": {},
   "outputs": [],
   "source": [
    "chroma_collection = get_chroma_collection(collection_name=\"history_full_text\")"
   ]
  },
  {
   "cell_type": "code",
   "execution_count": 10,
   "metadata": {},
   "outputs": [
    {
     "name": "stderr",
     "output_type": "stream",
     "text": [
      "/var/folders/c_/2c9vmfhd35bgwc_6h0q80d180000gn/T/ipykernel_59367/3301763113.py:11: DeprecationWarning: The 'text' argument to find()-type methods is deprecated. Use 'string' instead.\n",
      "  texts = soup.findAll(text=True)\n"
     ]
    }
   ],
   "source": [
    "history['full_text'] = history['url_hash'].apply(lambda x: text_from_url_hash(x))"
   ]
  },
  {
   "cell_type": "code",
   "execution_count": 11,
   "metadata": {},
   "outputs": [
    {
     "data": {
      "text/plain": [
       "1043"
      ]
     },
     "execution_count": 11,
     "metadata": {},
     "output_type": "execute_result"
    }
   ],
   "source": [
    "df = history.loc[history['full_text'].str.len() > 50]\n",
    "len(df)"
   ]
  },
  {
   "cell_type": "code",
   "execution_count": 12,
   "metadata": {},
   "outputs": [
    {
     "name": "stderr",
     "output_type": "stream",
     "text": [
      "Insert of existing embedding ID: 1570044905883802425\n",
      "Insert of existing embedding ID: 2078036887709956766\n",
      "Insert of existing embedding ID: 465351758596575036\n",
      "Insert of existing embedding ID: 1147670435578958047\n",
      "Insert of existing embedding ID: 1795477675041903260\n",
      "Insert of existing embedding ID: 1845290341525160447\n",
      "Insert of existing embedding ID: 360064471792638577\n",
      "Insert of existing embedding ID: 2173751364628448710\n",
      "Insert of existing embedding ID: 2244093962196857770\n",
      "Insert of existing embedding ID: 2293464213754761243\n",
      "Insert of existing embedding ID: 1123155588584180439\n",
      "Insert of existing embedding ID: 574905316281922921\n",
      "Insert of existing embedding ID: 2223182224855028112\n",
      "Insert of existing embedding ID: 2134971482993242665\n",
      "Insert of existing embedding ID: 718660366117881787\n",
      "Insert of existing embedding ID: 893915584777742624\n",
      "Insert of existing embedding ID: 1259759830639824606\n",
      "Insert of existing embedding ID: 857394777468621085\n",
      "Insert of existing embedding ID: 1106120542184747709\n",
      "Insert of existing embedding ID: 2022269523820695063\n",
      "Insert of existing embedding ID: 1770991095880357764\n",
      "Insert of existing embedding ID: 1109913970767519961\n",
      "Insert of existing embedding ID: 341461740063401819\n",
      "Insert of existing embedding ID: 1945905775590821028\n",
      "Insert of existing embedding ID: 2163084926663602869\n",
      "Insert of existing embedding ID: 1936578653342068063\n",
      "Insert of existing embedding ID: 1000097063792403978\n",
      "Insert of existing embedding ID: 783017007441617444\n",
      "Insert of existing embedding ID: 2065389819817241325\n",
      "Insert of existing embedding ID: 114186396918641521\n",
      "Insert of existing embedding ID: 1507382947729042942\n",
      "Insert of existing embedding ID: 745557237671766758\n",
      "Insert of existing embedding ID: 1303557538656901825\n",
      "Insert of existing embedding ID: 1905697565505754408\n",
      "Insert of existing embedding ID: 1345132187356857769\n",
      "Insert of existing embedding ID: 1180810105898697994\n",
      "Insert of existing embedding ID: 1387662714626639569\n",
      "Insert of existing embedding ID: 2202684761343196056\n",
      "Insert of existing embedding ID: 178307292802254153\n",
      "Insert of existing embedding ID: 1937437496733441798\n",
      "Insert of existing embedding ID: 937978230786362256\n",
      "Insert of existing embedding ID: 1561269493620427622\n",
      "Insert of existing embedding ID: 193289102272173497\n",
      "Insert of existing embedding ID: 2000873086429735478\n",
      "Insert of existing embedding ID: 1290361649472833035\n",
      "Insert of existing embedding ID: 255878062732237317\n",
      "Insert of existing embedding ID: 239271003233990745\n",
      "Insert of existing embedding ID: 1225261817418925657\n",
      "Insert of existing embedding ID: 1060857864910763411\n",
      "Insert of existing embedding ID: 1038454301416377742\n",
      "Insert of existing embedding ID: 1812354468431794514\n",
      "Insert of existing embedding ID: 1486838302762439014\n",
      "Insert of existing embedding ID: 434058059156666410\n",
      "Insert of existing embedding ID: 2268986097693413376\n",
      "Insert of existing embedding ID: 1316316133484148417\n",
      "Insert of existing embedding ID: 1485454185185521498\n",
      "Insert of existing embedding ID: 1130378403749481472\n",
      "Insert of existing embedding ID: 1931884993822620741\n",
      "Insert of existing embedding ID: 1189185825745824345\n",
      "Insert of existing embedding ID: 1825854582639526898\n",
      "Insert of existing embedding ID: 282839546217987414\n",
      "Insert of existing embedding ID: 1360009517883686957\n",
      "Insert of existing embedding ID: 1564698334837998558\n",
      "Insert of existing embedding ID: 1057264135165068919\n",
      "Insert of existing embedding ID: 200002740721233760\n",
      "Insert of existing embedding ID: 1432899909622028220\n",
      "Insert of existing embedding ID: 488876223025321479\n",
      "Insert of existing embedding ID: 1738900010211189781\n",
      "Insert of existing embedding ID: 26550267724489910\n",
      "Insert of existing embedding ID: 1515772439229814675\n",
      "Insert of existing embedding ID: 186342595955577541\n",
      "Insert of existing embedding ID: 1770146754882652956\n",
      "Insert of existing embedding ID: 631057139148842592\n",
      "Insert of existing embedding ID: 928118770616250936\n",
      "Insert of existing embedding ID: 793597336163695702\n",
      "Insert of existing embedding ID: 676284484424785134\n",
      "Insert of existing embedding ID: 2242387312826788834\n",
      "Insert of existing embedding ID: 459712473989184879\n",
      "Insert of existing embedding ID: 1675242811158869036\n",
      "Insert of existing embedding ID: 1896420143293761338\n",
      "Insert of existing embedding ID: 923491823228721162\n",
      "Insert of existing embedding ID: 1490384379723358776\n",
      "Insert of existing embedding ID: 1427173658858354537\n",
      "Insert of existing embedding ID: 1539183834586334413\n",
      "Insert of existing embedding ID: 1188517310370243042\n",
      "Insert of existing embedding ID: 707718848524548644\n",
      "Insert of existing embedding ID: 269775486538803\n",
      "Insert of existing embedding ID: 2020288640280027444\n",
      "Insert of existing embedding ID: 1465535722187380723\n",
      "Insert of existing embedding ID: 422437883451396766\n",
      "Insert of existing embedding ID: 1809389798274254927\n",
      "Insert of existing embedding ID: 783643703192527065\n",
      "Insert of existing embedding ID: 438083609718898068\n",
      "Insert of existing embedding ID: 244960252653889243\n",
      "Insert of existing embedding ID: 474664234091302135\n",
      "Insert of existing embedding ID: 1198111164408183460\n",
      "Insert of existing embedding ID: 1696622767238874151\n",
      "Insert of existing embedding ID: 1192382196696812459\n",
      "Insert of existing embedding ID: 1556062421183238049\n",
      "Insert of existing embedding ID: 286725363489883883\n",
      "Insert of existing embedding ID: 1018618340396534292\n",
      "Insert of existing embedding ID: 1857200500425070263\n",
      "Insert of existing embedding ID: 1249074117051820774\n",
      "Insert of existing embedding ID: 1580856791072980931\n",
      "Insert of existing embedding ID: 918912242753622369\n",
      "Insert of existing embedding ID: 2115638193155831550\n",
      "Insert of existing embedding ID: 2096365687446779101\n",
      "Insert of existing embedding ID: 1197057662862186109\n",
      "Insert of existing embedding ID: 2209291512620220447\n",
      "Insert of existing embedding ID: 2224724654065377438\n",
      "Insert of existing embedding ID: 1424248991719559794\n",
      "Insert of existing embedding ID: 749699976779931636\n",
      "Insert of existing embedding ID: 1567350900822192252\n",
      "Insert of existing embedding ID: 1270440205523996853\n",
      "Insert of existing embedding ID: 2301174702759767121\n",
      "Insert of existing embedding ID: 2219883874671889222\n",
      "Insert of existing embedding ID: 684631617350328582\n",
      "Insert of existing embedding ID: 1555809587827030813\n",
      "Add of existing embedding ID: 1570044905883802425\n",
      "Add of existing embedding ID: 2078036887709956766\n",
      "Add of existing embedding ID: 465351758596575036\n",
      "Add of existing embedding ID: 1147670435578958047\n",
      "Add of existing embedding ID: 1795477675041903260\n",
      "Add of existing embedding ID: 1845290341525160447\n",
      "Add of existing embedding ID: 360064471792638577\n",
      "Add of existing embedding ID: 2173751364628448710\n",
      "Add of existing embedding ID: 2244093962196857770\n",
      "Add of existing embedding ID: 2293464213754761243\n",
      "Add of existing embedding ID: 1123155588584180439\n",
      "Add of existing embedding ID: 574905316281922921\n",
      "Add of existing embedding ID: 2223182224855028112\n",
      "Add of existing embedding ID: 2134971482993242665\n",
      "Add of existing embedding ID: 718660366117881787\n",
      "Add of existing embedding ID: 893915584777742624\n",
      "Add of existing embedding ID: 1259759830639824606\n",
      "Add of existing embedding ID: 857394777468621085\n",
      "Add of existing embedding ID: 1106120542184747709\n",
      "Add of existing embedding ID: 2022269523820695063\n",
      "Add of existing embedding ID: 1770991095880357764\n",
      "Add of existing embedding ID: 1109913970767519961\n",
      "Add of existing embedding ID: 341461740063401819\n",
      "Add of existing embedding ID: 1945905775590821028\n",
      "Add of existing embedding ID: 2163084926663602869\n",
      "Add of existing embedding ID: 1936578653342068063\n",
      "Add of existing embedding ID: 1000097063792403978\n",
      "Add of existing embedding ID: 783017007441617444\n",
      "Add of existing embedding ID: 2065389819817241325\n",
      "Add of existing embedding ID: 114186396918641521\n",
      "Add of existing embedding ID: 1507382947729042942\n",
      "Add of existing embedding ID: 745557237671766758\n",
      "Add of existing embedding ID: 1303557538656901825\n",
      "Add of existing embedding ID: 1905697565505754408\n",
      "Add of existing embedding ID: 1345132187356857769\n",
      "Add of existing embedding ID: 1180810105898697994\n",
      "Add of existing embedding ID: 1387662714626639569\n",
      "Add of existing embedding ID: 2202684761343196056\n",
      "Add of existing embedding ID: 178307292802254153\n",
      "Add of existing embedding ID: 1937437496733441798\n",
      "Add of existing embedding ID: 937978230786362256\n",
      "Add of existing embedding ID: 1561269493620427622\n",
      "Add of existing embedding ID: 193289102272173497\n",
      "Add of existing embedding ID: 2000873086429735478\n",
      "Add of existing embedding ID: 1290361649472833035\n",
      "Add of existing embedding ID: 255878062732237317\n",
      "Add of existing embedding ID: 239271003233990745\n",
      "Add of existing embedding ID: 1225261817418925657\n",
      "Add of existing embedding ID: 1060857864910763411\n",
      "Add of existing embedding ID: 1038454301416377742\n",
      "Add of existing embedding ID: 1812354468431794514\n",
      "Add of existing embedding ID: 1486838302762439014\n",
      "Add of existing embedding ID: 434058059156666410\n",
      "Add of existing embedding ID: 2268986097693413376\n",
      "Add of existing embedding ID: 1316316133484148417\n",
      "Add of existing embedding ID: 1485454185185521498\n",
      "Add of existing embedding ID: 1130378403749481472\n",
      "Add of existing embedding ID: 1931884993822620741\n",
      "Add of existing embedding ID: 1189185825745824345\n",
      "Add of existing embedding ID: 1825854582639526898\n",
      "Add of existing embedding ID: 282839546217987414\n",
      "Add of existing embedding ID: 1360009517883686957\n",
      "Add of existing embedding ID: 1564698334837998558\n",
      "Add of existing embedding ID: 1057264135165068919\n",
      "Add of existing embedding ID: 200002740721233760\n",
      "Add of existing embedding ID: 1432899909622028220\n",
      "Add of existing embedding ID: 488876223025321479\n",
      "Add of existing embedding ID: 1738900010211189781\n",
      "Add of existing embedding ID: 26550267724489910\n",
      "Add of existing embedding ID: 1515772439229814675\n",
      "Add of existing embedding ID: 186342595955577541\n",
      "Add of existing embedding ID: 1770146754882652956\n",
      "Add of existing embedding ID: 631057139148842592\n",
      "Add of existing embedding ID: 928118770616250936\n",
      "Add of existing embedding ID: 793597336163695702\n",
      "Add of existing embedding ID: 676284484424785134\n",
      "Add of existing embedding ID: 2242387312826788834\n",
      "Add of existing embedding ID: 459712473989184879\n",
      "Add of existing embedding ID: 1675242811158869036\n",
      "Add of existing embedding ID: 1896420143293761338\n",
      "Add of existing embedding ID: 923491823228721162\n",
      "Add of existing embedding ID: 1490384379723358776\n",
      "Add of existing embedding ID: 1427173658858354537\n",
      "Add of existing embedding ID: 1539183834586334413\n",
      "Add of existing embedding ID: 1188517310370243042\n",
      "Add of existing embedding ID: 707718848524548644\n",
      "Add of existing embedding ID: 269775486538803\n",
      "Add of existing embedding ID: 2020288640280027444\n",
      "Add of existing embedding ID: 1465535722187380723\n",
      "Add of existing embedding ID: 422437883451396766\n",
      "Add of existing embedding ID: 1809389798274254927\n",
      "Add of existing embedding ID: 783643703192527065\n",
      "Add of existing embedding ID: 438083609718898068\n",
      "Add of existing embedding ID: 244960252653889243\n",
      "Add of existing embedding ID: 474664234091302135\n",
      "Add of existing embedding ID: 1198111164408183460\n",
      "Add of existing embedding ID: 1696622767238874151\n",
      "Add of existing embedding ID: 1192382196696812459\n",
      "Add of existing embedding ID: 1556062421183238049\n",
      "Add of existing embedding ID: 286725363489883883\n",
      "Add of existing embedding ID: 1018618340396534292\n",
      "Add of existing embedding ID: 1857200500425070263\n",
      "Add of existing embedding ID: 1249074117051820774\n",
      "Add of existing embedding ID: 1580856791072980931\n",
      "Add of existing embedding ID: 918912242753622369\n",
      "Add of existing embedding ID: 2115638193155831550\n",
      "Add of existing embedding ID: 2096365687446779101\n",
      "Add of existing embedding ID: 1197057662862186109\n",
      "Add of existing embedding ID: 2209291512620220447\n",
      "Add of existing embedding ID: 2224724654065377438\n",
      "Add of existing embedding ID: 1424248991719559794\n",
      "Add of existing embedding ID: 749699976779931636\n",
      "Add of existing embedding ID: 1567350900822192252\n",
      "Add of existing embedding ID: 1270440205523996853\n",
      "Add of existing embedding ID: 2301174702759767121\n",
      "Add of existing embedding ID: 2219883874671889222\n",
      "Add of existing embedding ID: 684631617350328582\n",
      "Add of existing embedding ID: 1555809587827030813\n"
     ]
    },
    {
     "name": "stdout",
     "output_type": "stream",
     "text": [
      "Successfully added 1043 documents to chromadb\n"
     ]
    }
   ],
   "source": [
    "run_chroma_ingest(df, chroma_collection)"
   ]
  },
  {
   "cell_type": "code",
   "execution_count": 13,
   "metadata": {},
   "outputs": [],
   "source": [
    "chroma_res = chroma_collection.get(include=['embeddings', 'documents'], \n",
    "                                           where={\"timestamp\" : {\"$gte\": 1722916800}})"
   ]
  },
  {
   "cell_type": "code",
   "execution_count": 16,
   "metadata": {},
   "outputs": [
    {
     "data": {
      "text/plain": [
       "309"
      ]
     },
     "execution_count": 16,
     "metadata": {},
     "output_type": "execute_result"
    }
   ],
   "source": [
    "len(chroma_res['ids'])"
   ]
  },
  {
   "cell_type": "code",
   "execution_count": null,
   "metadata": {},
   "outputs": [],
   "source": []
  }
 ],
 "metadata": {
  "kernelspec": {
   "display_name": "hindsight_exp",
   "language": "python",
   "name": "python3"
  },
  "language_info": {
   "codemirror_mode": {
    "name": "ipython",
    "version": 3
   },
   "file_extension": ".py",
   "mimetype": "text/x-python",
   "name": "python",
   "nbconvert_exporter": "python",
   "pygments_lexer": "ipython3",
   "version": "3.9.18"
  }
 },
 "nbformat": 4,
 "nbformat_minor": 2
}
